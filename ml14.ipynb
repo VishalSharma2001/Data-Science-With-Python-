{
 "cells": [
  {
   "cell_type": "code",
   "execution_count": 7,
   "metadata": {},
   "outputs": [
    {
     "data": {
      "text/plain": [
       "'cute'"
      ]
     },
     "execution_count": 7,
     "metadata": {},
     "output_type": "execute_result"
    }
   ],
   "source": [
    "mycat={'name':'cute','color':'gray','sound':'low'}\n",
    "mycat['name']"
   ]
  },
  {
   "cell_type": "code",
   "execution_count": 9,
   "metadata": {},
   "outputs": [
    {
     "data": {
      "text/plain": [
       "dict_items([('name', 'cute'), ('color', 'gray'), ('sound', 'low')])"
      ]
     },
     "execution_count": 9,
     "metadata": {},
     "output_type": "execute_result"
    }
   ],
   "source": [
    "mycat={'name':'cute','color':'gray','sound':'low'}\n",
    "mycat.items()"
   ]
  },
  {
   "cell_type": "code",
   "execution_count": 10,
   "metadata": {},
   "outputs": [
    {
     "data": {
      "text/plain": [
       "dict_keys(['name', 'color', 'sound'])"
      ]
     },
     "execution_count": 10,
     "metadata": {},
     "output_type": "execute_result"
    }
   ],
   "source": [
    "mycat={'name':'cute','color':'gray','sound':'low'}\n",
    "mycat.keys()"
   ]
  },
  {
   "cell_type": "code",
   "execution_count": 11,
   "metadata": {},
   "outputs": [
    {
     "data": {
      "text/plain": [
       "dict_values(['cute', 'gray', 'low'])"
      ]
     },
     "execution_count": 11,
     "metadata": {},
     "output_type": "execute_result"
    }
   ],
   "source": [
    "mycat={'name':'cute','color':'gray','sound':'low'}\n",
    "mycat.values()"
   ]
  },
  {
   "cell_type": "code",
   "execution_count": 12,
   "metadata": {},
   "outputs": [
    {
     "data": {
      "text/plain": [
       "{'name': 'cute', 'color': 'gray', 'sound': 'low'}"
      ]
     },
     "execution_count": 12,
     "metadata": {},
     "output_type": "execute_result"
    }
   ],
   "source": [
    "mycat"
   ]
  },
  {
   "cell_type": "code",
   "execution_count": 14,
   "metadata": {},
   "outputs": [
    {
     "data": {
      "text/plain": [
       "True"
      ]
     },
     "execution_count": 14,
     "metadata": {},
     "output_type": "execute_result"
    }
   ],
   "source": [
    "spam1=['math','physics','chemistry']\n",
    "spam2=['math','physics','chemistry']\n",
    "bool(spam1==spam2)"
   ]
  },
  {
   "cell_type": "code",
   "execution_count": 15,
   "metadata": {},
   "outputs": [
    {
     "data": {
      "text/plain": [
       "False"
      ]
     },
     "execution_count": 15,
     "metadata": {},
     "output_type": "execute_result"
    }
   ],
   "source": [
    "spam1=['math','physics','chemistry']\n",
    "spam2=['math','math','chemistry']\n",
    "spam1==spam2"
   ]
  },
  {
   "cell_type": "code",
   "execution_count": 17,
   "metadata": {},
   "outputs": [
    {
     "data": {
      "text/plain": [
       "True"
      ]
     },
     "execution_count": 17,
     "metadata": {},
     "output_type": "execute_result"
    }
   ],
   "source": [
    "mycat1={'name':'cute','color':'gray','sound':'low'}\n",
    "mycat2={'color':'gray','sound':'low','name':'cute'}\n",
    "mycat1==mycat2"
   ]
  },
  {
   "cell_type": "code",
   "execution_count": 18,
   "metadata": {},
   "outputs": [],
   "source": [
    "info={'name':'vishal','rollno':'118','branch':'cs'}"
   ]
  },
  {
   "cell_type": "code",
   "execution_count": 21,
   "metadata": {},
   "outputs": [
    {
     "name": "stdout",
     "output_type": "stream",
     "text": [
      "vishal\n",
      "118\n",
      "cs\n"
     ]
    }
   ],
   "source": [
    "for i in info.values():\n",
    "    print(i)"
   ]
  },
  {
   "cell_type": "code",
   "execution_count": 22,
   "metadata": {},
   "outputs": [
    {
     "name": "stdout",
     "output_type": "stream",
     "text": [
      "name\n",
      "rollno\n",
      "branch\n"
     ]
    }
   ],
   "source": [
    "for i in info.keys():\n",
    "    print(i)"
   ]
  },
  {
   "cell_type": "code",
   "execution_count": 23,
   "metadata": {},
   "outputs": [
    {
     "name": "stdout",
     "output_type": "stream",
     "text": [
      "('name', 'vishal')\n",
      "('rollno', '118')\n",
      "('branch', 'cs')\n"
     ]
    }
   ],
   "source": [
    "for i in info.items():\n",
    "    print(i)"
   ]
  },
  {
   "cell_type": "code",
   "execution_count": null,
   "metadata": {},
   "outputs": [
    {
     "name": "stdout",
     "output_type": "stream",
     "text": [
      "Enter your name: \n",
      "vishal\n",
      "march22 is birthday of vishal\n",
      "Enter your name: \n",
      "vinay\n",
      "march31 is birthday of vinay\n",
      "Enter your name: \n",
      "mummy\n",
      "i dont have birthday info for mummy\n",
      "Enter your birthday:\n",
      "dec31\n",
      "Birth database is update\n",
      "Enter your name: \n"
     ]
    }
   ],
   "source": [
    "birthday={'vishal':'march22','vinay':'march31','balram':'jan23','ankur':'oct3'}\n",
    "while True:\n",
    "    print(\"Enter your name: \")\n",
    "    name=input()\n",
    "    if name==\"\":\n",
    "        break\n",
    "    if name in birthday:\n",
    "        print(birthday[name]+ ' is birthday of '+name)\n",
    "    else:\n",
    "        print(\"i dont have birthday info for \"+name)\n",
    "        print(\"Enter your birthday:\")\n",
    "        bday=input()\n",
    "        birthday[name]=bday\n",
    "        print(\"Birth database is update\")\n",
    "        "
   ]
  },
  {
   "cell_type": "code",
   "execution_count": null,
   "metadata": {},
   "outputs": [],
   "source": []
  }
 ],
 "metadata": {
  "kernelspec": {
   "display_name": "Python 3",
   "language": "python",
   "name": "python3"
  },
  "language_info": {
   "codemirror_mode": {
    "name": "ipython",
    "version": 3
   },
   "file_extension": ".py",
   "mimetype": "text/x-python",
   "name": "python",
   "nbconvert_exporter": "python",
   "pygments_lexer": "ipython3",
   "version": "3.7.0"
  }
 },
 "nbformat": 4,
 "nbformat_minor": 2
}
