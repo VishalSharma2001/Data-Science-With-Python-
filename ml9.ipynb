{
 "cells": [
  {
   "cell_type": "code",
   "execution_count": 17,
   "metadata": {},
   "outputs": [
    {
     "name": "stdout",
     "output_type": "stream",
     "text": [
      "Enter your name:vishal\n",
      "Hey bro..\n"
     ]
    }
   ],
   "source": [
    "#name=\"vishal\"\n",
    "#nicename=\"kimi\"\n",
    "while True:\n",
    "    name1=input(\"Enter your name:\")\n",
    "    if name1 ==\"vishal\": \n",
    "        break\n",
    "print(\"Hey bro..\")"
   ]
  },
  {
   "cell_type": "code",
   "execution_count": 2,
   "metadata": {},
   "outputs": [
    {
     "name": "stdout",
     "output_type": "stream",
     "text": [
      "Who are you?\n",
      "vishal\n",
      "Enter yor password,vishal\n",
      "2001\n",
      "Login Successfull\n"
     ]
    }
   ],
   "source": [
    "while True:\n",
    "    print(\"Who are you?\")\n",
    "    name=input()\n",
    "    if name != \"vishal\":\n",
    "        continue\n",
    "        \n",
    "        \n",
    "    print(\"Enter yor password,{}\".format(name))\n",
    "    password=input()\n",
    "    if password==\"2001\":\n",
    "        break\n",
    "print(\"Login Successfull\")"
   ]
  },
  {
   "cell_type": "code",
   "execution_count": null,
   "metadata": {},
   "outputs": [],
   "source": []
  }
 ],
 "metadata": {
  "kernelspec": {
   "display_name": "Python 3",
   "language": "python",
   "name": "python3"
  },
  "language_info": {
   "codemirror_mode": {
    "name": "ipython",
    "version": 3
   },
   "file_extension": ".py",
   "mimetype": "text/x-python",
   "name": "python",
   "nbconvert_exporter": "python",
   "pygments_lexer": "ipython3",
   "version": "3.7.0"
  }
 },
 "nbformat": 4,
 "nbformat_minor": 2
}
