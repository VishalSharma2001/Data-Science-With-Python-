{
 "cells": [
  {
   "cell_type": "code",
   "execution_count": 3,
   "metadata": {},
   "outputs": [
    {
     "name": "stdout",
     "output_type": "stream",
     "text": [
      "vishal118\n"
     ]
    }
   ],
   "source": [
    "var1=\"vishal\"\n",
    "var2=118\n",
    "print(var1+str(var2))"
   ]
  },
  {
   "cell_type": "code",
   "execution_count": 12,
   "metadata": {},
   "outputs": [
    {
     "name": "stdout",
     "output_type": "stream",
     "text": [
      "Enter the First value:22\n",
      "Enter the Second value:7\n",
      "29\n",
      "15\n",
      "154\n",
      "3.142857142857143\n",
      "1\n",
      "17\n",
      "6\n"
     ]
    }
   ],
   "source": [
    "var3=int(input(\"Enter the First value:\"))\n",
    "var4=int(input(\"Enter the Second value:\"))\n",
    "print(var3+var4)\n",
    "print(var3-var4)\n",
    "print(var3*var4)\n",
    "print(var3/var4)\n",
    "print(var3%var4)\n",
    "print(var3^var4)\n",
    "print(var3&var4)"
   ]
  }
 ],
 "metadata": {
  "kernelspec": {
   "display_name": "Python 3",
   "language": "python",
   "name": "python3"
  },
  "language_info": {
   "codemirror_mode": {
    "name": "ipython",
    "version": 3
   },
   "file_extension": ".py",
   "mimetype": "text/x-python",
   "name": "python",
   "nbconvert_exporter": "python",
   "pygments_lexer": "ipython3",
   "version": "3.7.0"
  }
 },
 "nbformat": 4,
 "nbformat_minor": 2
}
