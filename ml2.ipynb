{
 "cells": [
  {
   "cell_type": "code",
   "execution_count": 2,
   "metadata": {},
   "outputs": [
    {
     "name": "stdout",
     "output_type": "stream",
     "text": [
      "vishalbirla\n"
     ]
    }
   ],
   "source": [
    "name='vishal'\n",
    "college='birla'\n",
    "print(name+college)"
   ]
  },
  {
   "cell_type": "code",
   "execution_count": 3,
   "metadata": {},
   "outputs": [
    {
     "name": "stdout",
     "output_type": "stream",
     "text": [
      "Enter the name=vishal\n",
      "Enter the college=birla\n",
      "vishalbirla\n"
     ]
    }
   ],
   "source": [
    "name=input(\"Enter the name=\")\n",
    "college=input(\"Enter the college=\")\n",
    "print(name+college)\n"
   ]
  },
  {
   "cell_type": "code",
   "execution_count": 5,
   "metadata": {},
   "outputs": [
    {
     "name": "stdout",
     "output_type": "stream",
     "text": [
      "Enter the name=vishal\n",
      "Enter the roll no=118\n",
      "vishal 118\n"
     ]
    }
   ],
   "source": [
    "name=input(\"Enter the name=\")\n",
    "rollno=int(input(\"Enter the roll no=\"))\n",
    "print(name,rollno)"
   ]
  },
  {
   "cell_type": "code",
   "execution_count": 6,
   "metadata": {
    "scrolled": true
   },
   "outputs": [
    {
     "name": "stdout",
     "output_type": "stream",
     "text": [
      "vishal sharma software engineer\n"
     ]
    }
   ],
   "source": [
    "    \n",
    "print(\"vishal sharma software engineer\")"
   ]
  },
  {
   "cell_type": "code",
   "execution_count": 7,
   "metadata": {},
   "outputs": [
    {
     "name": "stdout",
     "output_type": "stream",
     "text": [
      "vishal sharma 'software' engineer\n"
     ]
    }
   ],
   "source": [
    "print(\"vishal sharma 'software' engineer\")"
   ]
  },
  {
   "cell_type": "code",
   "execution_count": 9,
   "metadata": {},
   "outputs": [
    {
     "name": "stdout",
     "output_type": "stream",
     "text": [
      "vishal sharma \n",
      " 118\n"
     ]
    }
   ],
   "source": [
    "print(\"vishal sharma \\n 118\")"
   ]
  },
  {
   "cell_type": "code",
   "execution_count": 18,
   "metadata": {},
   "outputs": [
    {
     "name": "stdout",
     "output_type": "stream",
     "text": [
      "1\t2\t3\t4\t5\t\n",
      "12345\n"
     ]
    }
   ],
   "source": [
    "print('1\\t2\\t3\\t4\\t5\\t')\n",
    "print('12345')"
   ]
  },
  {
   "cell_type": "code",
   "execution_count": 23,
   "metadata": {},
   "outputs": [
    {
     "name": "stdout",
     "output_type": "stream",
     "text": [
      "vishal's sharma\n"
     ]
    }
   ],
   "source": [
    "print('vishal\\'s sharma')"
   ]
  },
  {
   "cell_type": "code",
   "execution_count": 25,
   "metadata": {},
   "outputs": [
    {
     "name": "stdout",
     "output_type": "stream",
     "text": [
      "vishal\"Sharma\"\n"
     ]
    }
   ],
   "source": [
    "print(\"vishal\\\"Sharma\\\"\")"
   ]
  },
  {
   "cell_type": "code",
   "execution_count": 30,
   "metadata": {},
   "outputs": [
    {
     "name": "stdout",
     "output_type": "stream",
     "text": [
      "vishal\n",
      "vishal sharma\n",
      "vishal\n",
      "vishal sharma\n",
      "vishal                             #in triple auto \n",
      " with new line start \n",
      "sharma\n",
      "118\n"
     ]
    }
   ],
   "source": [
    "print(\"vishal\")\n",
    "print('vishal sharma')\n",
    "print(\"\"\"vishal\"\"\")\n",
    "print('''vishal sharma''')\n",
    "print('''vishal                             #in triple auto \\n with new line start \n",
    "sharma\n",
    "118''')"
   ]
  },
  {
   "cell_type": "code",
   "execution_count": null,
   "metadata": {},
   "outputs": [],
   "source": []
  }
 ],
 "metadata": {
  "kernelspec": {
   "display_name": "Python 3",
   "language": "python",
   "name": "python3"
  },
  "language_info": {
   "codemirror_mode": {
    "name": "ipython",
    "version": 3
   },
   "file_extension": ".py",
   "mimetype": "text/x-python",
   "name": "python",
   "nbconvert_exporter": "python",
   "pygments_lexer": "ipython3",
   "version": "3.7.0"
  }
 },
 "nbformat": 4,
 "nbformat_minor": 2
}
