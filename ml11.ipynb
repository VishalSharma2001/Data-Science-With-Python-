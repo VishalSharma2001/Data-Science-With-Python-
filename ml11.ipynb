{
 "cells": [
  {
   "cell_type": "code",
   "execution_count": 6,
   "metadata": {},
   "outputs": [
    {
     "name": "stdout",
     "output_type": "stream",
     "text": [
      "vishal 0\n",
      "vishal 1\n",
      "vishal 2\n",
      "vishal 3\n",
      "vishal 4\n",
      "vishal 5\n",
      "vishal 6\n",
      "vishal 7\n",
      "vishal 8\n",
      "vishal 9\n",
      "vishal 10\n"
     ]
    }
   ],
   "source": [
    "var1=0\n",
    "while var1<=10:\n",
    "    print(\"vishal\",var1)\n",
    "    var1+=1"
   ]
  },
  {
   "cell_type": "code",
   "execution_count": null,
   "metadata": {},
   "outputs": [],
   "source": [
    "avaible_exits=[\"east\",\"north\",\"northeast\"]\n",
    "choosein=\"\"\n",
    "\n",
    "while choosein not in avaible_exits:\n",
    "    choosein=input(\"Enter the direction=\")\n",
    "    if choosein==\"quit\":\n",
    "        print(\"game over\")\n",
    "        break\n",
    "    else:\n",
    "        print(\"out of loop\")"
   ]
  },
  {
   "cell_type": "code",
   "execution_count": null,
   "metadata": {},
   "outputs": [],
   "source": []
  }
 ],
 "metadata": {
  "kernelspec": {
   "display_name": "Python 3",
   "language": "python",
   "name": "python3"
  },
  "language_info": {
   "codemirror_mode": {
    "name": "ipython",
    "version": 3
   },
   "file_extension": ".py",
   "mimetype": "text/x-python",
   "name": "python",
   "nbconvert_exporter": "python",
   "pygments_lexer": "ipython3",
   "version": "3.7.0"
  }
 },
 "nbformat": 4,
 "nbformat_minor": 2
}
