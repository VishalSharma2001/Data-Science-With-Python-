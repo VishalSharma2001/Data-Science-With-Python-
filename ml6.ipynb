{
 "cells": [
  {
   "cell_type": "code",
   "execution_count": 2,
   "metadata": {},
   "outputs": [
    {
     "name": "stdout",
     "output_type": "stream",
     "text": [
      "Hello vishal\n"
     ]
    }
   ],
   "source": [
    "def Hello():\n",
    "    print(\"Hello vishal\")\n",
    "#Hello()"
   ]
  },
  {
   "cell_type": "code",
   "execution_count": 3,
   "metadata": {},
   "outputs": [
    {
     "name": "stdout",
     "output_type": "stream",
     "text": [
      "Enter the first value:2\n",
      "Enter the second value2\n",
      "Sum is 4\n"
     ]
    }
   ],
   "source": [
    "# no argument no return type\n",
    "def sum():\n",
    "    var1=int(input(\"Enter the first value:\"))\n",
    "    var2=int(input(\"Enter the second value\"))\n",
    "    var3=var1+var2\n",
    "    print(\"Sum is:\",var3)\n",
    "sum()"
   ]
  },
  {
   "cell_type": "code",
   "execution_count": 5,
   "metadata": {},
   "outputs": [
    {
     "name": "stdout",
     "output_type": "stream",
     "text": [
      "sub is: 6\n"
     ]
    }
   ],
   "source": [
    "#with argument and no return\n",
    "def sub(var1,var2):\n",
    "    var3=var1-var2\n",
    "    print(\"sub is:\",var3)\n",
    "sub(12,6)    "
   ]
  },
  {
   "cell_type": "code",
   "execution_count": 18,
   "metadata": {},
   "outputs": [
    {
     "name": "stdout",
     "output_type": "stream",
     "text": [
      "Enter the first value:-2015\n",
      "Enter the second value9875\n",
      "-19898125\n"
     ]
    }
   ],
   "source": [
    "# no argument with return type\n",
    "def mul():\n",
    "    var1=int(input(\"Enter the first value:\"))\n",
    "    var2=int(input(\"Enter the second value\"))\n",
    "    var3=var1*var2\n",
    "    return var3\n",
    "var4=mul()\n",
    "print(var4)"
   ]
  },
  {
   "cell_type": "code",
   "execution_count": 19,
   "metadata": {},
   "outputs": [
    {
     "name": "stdout",
     "output_type": "stream",
     "text": [
      "3.0\n"
     ]
    }
   ],
   "source": [
    "# with return type and argument\n",
    "def dev(var1,var2):\n",
    "    var3=var1/var2\n",
    "    return var3\n",
    "var4=dev(6,2)\n",
    "print(var4)"
   ]
  },
  {
   "cell_type": "code",
   "execution_count": null,
   "metadata": {},
   "outputs": [],
   "source": []
  }
 ],
 "metadata": {
  "kernelspec": {
   "display_name": "Python 3",
   "language": "python",
   "name": "python3"
  },
  "language_info": {
   "codemirror_mode": {
    "name": "ipython",
    "version": 3
   },
   "file_extension": ".py",
   "mimetype": "text/x-python",
   "name": "python",
   "nbconvert_exporter": "python",
   "pygments_lexer": "ipython3",
   "version": "3.7.0"
  }
 },
 "nbformat": 4,
 "nbformat_minor": 2
}
