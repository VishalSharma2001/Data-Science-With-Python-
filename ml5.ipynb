{
 "cells": [
  {
   "cell_type": "code",
   "execution_count": 4,
   "metadata": {},
   "outputs": [
    {
     "name": "stdout",
     "output_type": "stream",
     "text": [
      "The number is I 1\n",
      "The number is I 2\n",
      "The number is I 3\n",
      "The number is I 4\n",
      "The number is I 5\n",
      "The number is I 6\n",
      "The number is I 7\n",
      "The number is I 8\n",
      "The number is I 9\n",
      "The number is I 10\n",
      "The number is I 11\n",
      "the loop is complited\n"
     ]
    }
   ],
   "source": [
    "for i in range(1,12):\n",
    "    print(\"The number is I\",i)\n",
    "print(\"the loop is complited\")"
   ]
  },
  {
   "cell_type": "code",
   "execution_count": 9,
   "metadata": {},
   "outputs": [
    {
     "name": "stdout",
     "output_type": "stream",
     "text": [
      "The Number is I 0\n",
      "The Number is I 1\n",
      "The Number is I 2\n",
      "The Number is I 3\n",
      "The Number is I 4\n",
      "The Number is I 5\n",
      "The Number is I 6\n",
      "The Number is I 7\n",
      "The Number is I 8\n",
      "The Number is I 9\n",
      "The Number is I 10\n",
      "The Number is I 11\n",
      "Loop is complited\n"
     ]
    }
   ],
   "source": [
    "for i in range(12):\n",
    "    print(\"The Number is I \"+str(i))\n",
    "print(\"Loop is complited\")"
   ]
  },
  {
   "cell_type": "code",
   "execution_count": 18,
   "metadata": {},
   "outputs": [
    {
     "name": "stdout",
     "output_type": "stream",
     "text": [
      "The Sqare of 0 0 The cube of  0\n",
      "The Sqare of 1 1 The cube of  1\n",
      "The Sqare of 2 4 The cube of  8\n",
      "The Sqare of 3 9 The cube of  27\n",
      "The Sqare of 4 16 The cube of  64\n",
      "The Sqare of 5 25 The cube of  125\n",
      "The Sqare of 6 36 The cube of  216\n",
      "The Sqare of 7 49 The cube of  343\n",
      "The Sqare of 8 64 The cube of  512\n",
      "The Sqare of 9 81 The cube of  729\n",
      "The Sqare of 10 100 The cube of  1000\n",
      "The Sqare of 11 121 The cube of  1331\n"
     ]
    }
   ],
   "source": [
    "for i in range(12):\n",
    "    j=i**2\n",
    "    k=i**3\n",
    "    print(\"The Sqare of \"+str(i),j,\"The cube of \",k)\n",
    "    #print(\"The cube of \"+str(i),k)"
   ]
  },
  {
   "cell_type": "code",
   "execution_count": 20,
   "metadata": {},
   "outputs": [
    {
     "name": "stdout",
     "output_type": "stream",
     "text": [
      "the number is 1,sqare is 1,Cube is 1\n",
      "the number is 2,sqare is 4,Cube is 8\n",
      "the number is 3,sqare is 9,Cube is 27\n",
      "the number is 4,sqare is 16,Cube is 64\n",
      "the number is 5,sqare is 25,Cube is 125\n",
      "the number is 6,sqare is 36,Cube is 216\n",
      "the number is 7,sqare is 49,Cube is 343\n",
      "the number is 8,sqare is 64,Cube is 512\n",
      "the number is 9,sqare is 81,Cube is 729\n",
      "the number is 10,sqare is 100,Cube is 1000\n",
      "the number is 11,sqare is 121,Cube is 1331\n"
     ]
    }
   ],
   "source": [
    "for i in range(1,12):\n",
    "    print(\"the number is {},sqare is {},Cube is {}\".format(i,i**2,i**3))"
   ]
  },
  {
   "cell_type": "code",
   "execution_count": null,
   "metadata": {},
   "outputs": [],
   "source": []
  }
 ],
 "metadata": {
  "kernelspec": {
   "display_name": "Python 3",
   "language": "python",
   "name": "python3"
  },
  "language_info": {
   "codemirror_mode": {
    "name": "ipython",
    "version": 3
   },
   "file_extension": ".py",
   "mimetype": "text/x-python",
   "name": "python",
   "nbconvert_exporter": "python",
   "pygments_lexer": "ipython3",
   "version": "3.7.0"
  }
 },
 "nbformat": 4,
 "nbformat_minor": 2
}
