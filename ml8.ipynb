{
 "cells": [
  {
   "cell_type": "code",
   "execution_count": 4,
   "metadata": {},
   "outputs": [
    {
     "name": "stdout",
     "output_type": "stream",
     "text": [
      "Enter Your Name:vishal\n",
      "Enter your age vishal10\n",
      "10\n",
      "Baad me aana 8 saal ke baad\n"
     ]
    }
   ],
   "source": [
    "name=input(\"Enter Your Name:\")\n",
    "age=int(input(\"Enter your age {}\".format(name)))\n",
    "\n",
    "print(age)\n",
    "if age >= 18:\n",
    "    print(\"AAP vote do sirf bjp ko\")\n",
    "\n",
    "else:\n",
    "    print(\"Baad me aana {} saal ke baad\".format(18-age))\n",
    "    "
   ]
  },
  {
   "cell_type": "code",
   "execution_count": 11,
   "metadata": {},
   "outputs": [
    {
     "name": "stdout",
     "output_type": "stream",
     "text": [
      "Enter number between 1 to 10\n",
      "4\n",
      "Enter heigher number\n",
      "7\n",
      "Sorry this is wrong answer\n"
     ]
    }
   ],
   "source": [
    "print(\"Enter number between 1 to 10\")\n",
    "guess=int(input())\n",
    "if guess < 5:\n",
    "    print(\"Enter heigher number\")\n",
    "    guess=int(input())\n",
    "    if guess == 5:\n",
    "        print(\"You are right\")\n",
    "    else:\n",
    "        print(\"Sorry this is wrong answer\")\n",
    "elif guess > 5:\n",
    "    print(\"Enter lower number\")\n",
    "    guess=int(input())\n",
    "    if guess == 5:\n",
    "        print(\"You are right\")\n",
    "    else:\n",
    "        print(\"Sorry this is wrong answer\")\n",
    "else:\n",
    "    print(\"Yor are correct in first chance\")\n",
    "    "
   ]
  },
  {
   "cell_type": "code",
   "execution_count": null,
   "metadata": {},
   "outputs": [],
   "source": []
  }
 ],
 "metadata": {
  "kernelspec": {
   "display_name": "Python 3",
   "language": "python",
   "name": "python3"
  },
  "language_info": {
   "codemirror_mode": {
    "name": "ipython",
    "version": 3
   },
   "file_extension": ".py",
   "mimetype": "text/x-python",
   "name": "python",
   "nbconvert_exporter": "python",
   "pygments_lexer": "ipython3",
   "version": "3.7.0"
  }
 },
 "nbformat": 4,
 "nbformat_minor": 2
}
