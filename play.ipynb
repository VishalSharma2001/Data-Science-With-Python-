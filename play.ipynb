{
 "cells": [
  {
   "cell_type": "code",
   "execution_count": 1,
   "metadata": {},
   "outputs": [],
   "source": [
    "import pandas as pd\n",
    "import numpy as np\n",
    "import matplotlib.pyplot as plt\n",
    "import seaborn as sn\n",
    "from sklearn.model_selection import train_test_split\n",
    "from sklearn.preprocessing import StandardScaler\n",
    "from sklearn.neighbors import KNeighborsClassifier\n",
    "from sklearn.preprocessing import LabelEncoder,OneHotEncoder\n",
    "from sklearn.compose import ColumnTransformer"
   ]
  },
  {
   "cell_type": "code",
   "execution_count": 2,
   "metadata": {},
   "outputs": [
    {
     "data": {
      "text/html": [
       "<div>\n",
       "<style scoped>\n",
       "    .dataframe tbody tr th:only-of-type {\n",
       "        vertical-align: middle;\n",
       "    }\n",
       "\n",
       "    .dataframe tbody tr th {\n",
       "        vertical-align: top;\n",
       "    }\n",
       "\n",
       "    .dataframe thead th {\n",
       "        text-align: right;\n",
       "    }\n",
       "</style>\n",
       "<table border=\"1\" class=\"dataframe\">\n",
       "  <thead>\n",
       "    <tr style=\"text-align: right;\">\n",
       "      <th></th>\n",
       "      <th>Outlook</th>\n",
       "      <th>Temperature</th>\n",
       "      <th>Humidity</th>\n",
       "      <th>Windy</th>\n",
       "      <th>Play</th>\n",
       "    </tr>\n",
       "  </thead>\n",
       "  <tbody>\n",
       "    <tr>\n",
       "      <th>0</th>\n",
       "      <td>sunny</td>\n",
       "      <td>hot</td>\n",
       "      <td>high</td>\n",
       "      <td>False</td>\n",
       "      <td>no</td>\n",
       "    </tr>\n",
       "    <tr>\n",
       "      <th>1</th>\n",
       "      <td>sunny</td>\n",
       "      <td>hot</td>\n",
       "      <td>high</td>\n",
       "      <td>True</td>\n",
       "      <td>no</td>\n",
       "    </tr>\n",
       "    <tr>\n",
       "      <th>2</th>\n",
       "      <td>overcast</td>\n",
       "      <td>hot</td>\n",
       "      <td>high</td>\n",
       "      <td>False</td>\n",
       "      <td>yes</td>\n",
       "    </tr>\n",
       "    <tr>\n",
       "      <th>3</th>\n",
       "      <td>rainy</td>\n",
       "      <td>mild</td>\n",
       "      <td>high</td>\n",
       "      <td>False</td>\n",
       "      <td>yes</td>\n",
       "    </tr>\n",
       "    <tr>\n",
       "      <th>4</th>\n",
       "      <td>rainy</td>\n",
       "      <td>cool</td>\n",
       "      <td>normal</td>\n",
       "      <td>False</td>\n",
       "      <td>yes</td>\n",
       "    </tr>\n",
       "  </tbody>\n",
       "</table>\n",
       "</div>"
      ],
      "text/plain": [
       "    Outlook Temperature Humidity  Windy Play\n",
       "0     sunny         hot     high  False   no\n",
       "1     sunny         hot     high   True   no\n",
       "2  overcast         hot     high  False  yes\n",
       "3     rainy        mild     high  False  yes\n",
       "4     rainy        cool   normal  False  yes"
      ]
     },
     "execution_count": 2,
     "metadata": {},
     "output_type": "execute_result"
    }
   ],
   "source": [
    "data=pd.read_csv(\"tree.csv\")\n",
    "data.head()"
   ]
  },
  {
   "cell_type": "code",
   "execution_count": 3,
   "metadata": {},
   "outputs": [
    {
     "name": "stdout",
     "output_type": "stream",
     "text": [
      "sunny       5\n",
      "rainy       5\n",
      "overcast    4\n",
      "Name: Outlook, dtype: int64\n",
      "mild    6\n",
      "hot     4\n",
      "cool    4\n",
      "Name: Temperature, dtype: int64\n",
      "high      7\n",
      "normal    7\n",
      "Name: Humidity, dtype: int64\n",
      "False    8\n",
      "True     6\n",
      "Name: Windy, dtype: int64\n",
      "yes    9\n",
      "no     5\n",
      "Name: Play, dtype: int64\n"
     ]
    }
   ],
   "source": [
    "for col in data.columns:\n",
    "    col=data[col].value_counts()\n",
    "    print(col)"
   ]
  },
  {
   "cell_type": "code",
   "execution_count": 4,
   "metadata": {},
   "outputs": [],
   "source": [
    "real_x=data.iloc[:,0:4].values\n",
    "real_y=data.iloc[:,-1].values"
   ]
  },
  {
   "cell_type": "code",
   "execution_count": 5,
   "metadata": {},
   "outputs": [
    {
     "data": {
      "text/plain": [
       "array([['sunny', 'hot', 0, 0],\n",
       "       ['sunny', 'hot', 0, 1],\n",
       "       ['overcast', 'hot', 0, 0],\n",
       "       ['rainy', 'mild', 0, 0],\n",
       "       ['rainy', 'cool', 1, 0],\n",
       "       ['rainy', 'cool', 1, 1],\n",
       "       ['overcast', 'cool', 1, 1],\n",
       "       ['sunny', 'mild', 0, 0],\n",
       "       ['sunny', 'cool', 1, 0],\n",
       "       ['rainy', 'mild', 1, 0],\n",
       "       ['sunny', 'mild', 1, 1],\n",
       "       ['overcast', 'mild', 0, 1],\n",
       "       ['overcast', 'hot', 1, 0],\n",
       "       ['rainy', 'mild', 0, 1]], dtype=object)"
      ]
     },
     "execution_count": 5,
     "metadata": {},
     "output_type": "execute_result"
    }
   ],
   "source": [
    "le=LabelEncoder()\n",
    "real_x[:,2]=le.fit_transform(real_x[:,2])\n",
    "real_x[:,3]=le.fit_transform(real_x[:,3])\n",
    "real_y[0:]=le.fit_transform(real_y[0:])\n",
    "real_x"
   ]
  },
  {
   "cell_type": "code",
   "execution_count": 6,
   "metadata": {},
   "outputs": [
    {
     "data": {
      "text/plain": [
       "array([[0.0, 0.0, 1.0, 'hot', 0, 0],\n",
       "       [0.0, 0.0, 1.0, 'hot', 0, 1],\n",
       "       [1.0, 0.0, 0.0, 'hot', 0, 0],\n",
       "       [0.0, 1.0, 0.0, 'mild', 0, 0],\n",
       "       [0.0, 1.0, 0.0, 'cool', 1, 0],\n",
       "       [0.0, 1.0, 0.0, 'cool', 1, 1],\n",
       "       [1.0, 0.0, 0.0, 'cool', 1, 1],\n",
       "       [0.0, 0.0, 1.0, 'mild', 0, 0],\n",
       "       [0.0, 0.0, 1.0, 'cool', 1, 0],\n",
       "       [0.0, 1.0, 0.0, 'mild', 1, 0],\n",
       "       [0.0, 0.0, 1.0, 'mild', 1, 1],\n",
       "       [1.0, 0.0, 0.0, 'mild', 0, 1],\n",
       "       [1.0, 0.0, 0.0, 'hot', 1, 0],\n",
       "       [0.0, 1.0, 0.0, 'mild', 0, 1]], dtype=object)"
      ]
     },
     "execution_count": 6,
     "metadata": {},
     "output_type": "execute_result"
    }
   ],
   "source": [
    "ct=ColumnTransformer([(\"Outlook\",OneHotEncoder(),[0])],remainder='passthrough')\n",
    "real_x=ct.fit_transform(real_x)\n",
    "real_x"
   ]
  },
  {
   "cell_type": "code",
   "execution_count": 7,
   "metadata": {},
   "outputs": [
    {
     "data": {
      "text/plain": [
       "array([[1.0, 0.0, 0.0, 1.0, 'hot', 0, 0],\n",
       "       [1.0, 0.0, 0.0, 1.0, 'hot', 0, 1],\n",
       "       [1.0, 0.0, 1.0, 0.0, 'hot', 0, 0],\n",
       "       [0.0, 1.0, 0.0, 0.0, 'mild', 0, 0],\n",
       "       [0.0, 1.0, 0.0, 0.0, 'cool', 1, 0],\n",
       "       [0.0, 1.0, 0.0, 0.0, 'cool', 1, 1],\n",
       "       [1.0, 0.0, 1.0, 0.0, 'cool', 1, 1],\n",
       "       [1.0, 0.0, 0.0, 1.0, 'mild', 0, 0],\n",
       "       [1.0, 0.0, 0.0, 1.0, 'cool', 1, 0],\n",
       "       [0.0, 1.0, 0.0, 0.0, 'mild', 1, 0],\n",
       "       [1.0, 0.0, 0.0, 1.0, 'mild', 1, 1],\n",
       "       [1.0, 0.0, 1.0, 0.0, 'mild', 0, 1],\n",
       "       [1.0, 0.0, 1.0, 0.0, 'hot', 1, 0],\n",
       "       [0.0, 1.0, 0.0, 0.0, 'mild', 0, 1]], dtype=object)"
      ]
     },
     "execution_count": 7,
     "metadata": {},
     "output_type": "execute_result"
    }
   ],
   "source": [
    "ct=ColumnTransformer([(\"Temperature\",OneHotEncoder(),[1])],remainder='passthrough')\n",
    "real_x=ct.fit_transform(real_x)\n",
    "real_x"
   ]
  },
  {
   "cell_type": "code",
   "execution_count": 8,
   "metadata": {},
   "outputs": [
    {
     "ename": "IndexError",
     "evalue": "index 7 is out of bounds for axis 1 with size 7",
     "output_type": "error",
     "traceback": [
      "\u001b[1;31m---------------------------------------------------------------------------\u001b[0m",
      "\u001b[1;31mIndexError\u001b[0m                                Traceback (most recent call last)",
      "\u001b[1;32m<ipython-input-8-d821202a09a0>\u001b[0m in \u001b[0;36m<module>\u001b[1;34m\u001b[0m\n\u001b[1;32m----> 1\u001b[1;33m \u001b[0mreal_x\u001b[0m\u001b[1;33m[\u001b[0m\u001b[1;33m:\u001b[0m\u001b[1;33m,\u001b[0m\u001b[1;36m7\u001b[0m\u001b[1;33m]\u001b[0m\u001b[1;33m\u001b[0m\u001b[1;33m\u001b[0m\u001b[0m\n\u001b[0m",
      "\u001b[1;31mIndexError\u001b[0m: index 7 is out of bounds for axis 1 with size 7"
     ]
    }
   ],
   "source": [
    " real_x[:,7]"
   ]
  },
  {
   "cell_type": "code",
   "execution_count": null,
   "metadata": {},
   "outputs": [],
   "source": [
    "real_x1=real_x[:,[0,1,2,3,4,5,6,8,9]]"
   ]
  },
  {
   "cell_type": "code",
   "execution_count": null,
   "metadata": {},
   "outputs": [],
   "source": [
    "real_x1"
   ]
  },
  {
   "cell_type": "code",
   "execution_count": null,
   "metadata": {},
   "outputs": [],
   "source": [
    "real_y"
   ]
  },
  {
   "cell_type": "code",
   "execution_count": null,
   "metadata": {},
   "outputs": [],
   "source": [
    "train_x,test_x,train_y,test_y=train_test_split(real_x1,real_y,test_size=0.25,random_state=0)"
   ]
  },
  {
   "cell_type": "code",
   "execution_count": null,
   "metadata": {},
   "outputs": [],
   "source": [
    "sc=StandardScaler()\n",
    "train_x=sc.fit_transform(train_x)\n",
    "test_x=sc.fit_transform(test_x)"
   ]
  },
  {
   "cell_type": "code",
   "execution_count": null,
   "metadata": {},
   "outputs": [],
   "source": [
    "cls=KNeighborsClassifier(n_neighbors=5)\n",
    "cls.fit(train_x,train_y)\n",
    "pred_y=cls.predict(test_x)"
   ]
  },
  {
   "cell_type": "code",
   "execution_count": null,
   "metadata": {},
   "outputs": [],
   "source": []
  }
 ],
 "metadata": {
  "kernelspec": {
   "display_name": "Python 3",
   "language": "python",
   "name": "python3"
  },
  "language_info": {
   "codemirror_mode": {
    "name": "ipython",
    "version": 3
   },
   "file_extension": ".py",
   "mimetype": "text/x-python",
   "name": "python",
   "nbconvert_exporter": "python",
   "pygments_lexer": "ipython3",
   "version": "3.7.3"
  }
 },
 "nbformat": 4,
 "nbformat_minor": 2
}
