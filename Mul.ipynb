{
 "cells": [
  {
   "cell_type": "code",
   "execution_count": 1,
   "metadata": {},
   "outputs": [],
   "source": [
    "import pandas as pd\n",
    "import numpy as np\n",
    "import matplotlib.pyplot as plt\n",
    "from sklearn.model_selection import train_test_split\n",
    "from sklearn.linear_model import LinearRegression\n"
   ]
  },
  {
   "cell_type": "code",
   "execution_count": 2,
   "metadata": {},
   "outputs": [
    {
     "data": {
      "text/html": [
       "<div>\n",
       "<style scoped>\n",
       "    .dataframe tbody tr th:only-of-type {\n",
       "        vertical-align: middle;\n",
       "    }\n",
       "\n",
       "    .dataframe tbody tr th {\n",
       "        vertical-align: top;\n",
       "    }\n",
       "\n",
       "    .dataframe thead th {\n",
       "        text-align: right;\n",
       "    }\n",
       "</style>\n",
       "<table border=\"1\" class=\"dataframe\">\n",
       "  <thead>\n",
       "    <tr style=\"text-align: right;\">\n",
       "      <th></th>\n",
       "      <th>Serial No.</th>\n",
       "      <th>GRE Score</th>\n",
       "      <th>TOEFL Score</th>\n",
       "      <th>University Rating</th>\n",
       "      <th>SOP</th>\n",
       "      <th>LOR</th>\n",
       "      <th>CGPA</th>\n",
       "      <th>Research</th>\n",
       "      <th>Chance of Admit</th>\n",
       "    </tr>\n",
       "  </thead>\n",
       "  <tbody>\n",
       "    <tr>\n",
       "      <th>0</th>\n",
       "      <td>1</td>\n",
       "      <td>337</td>\n",
       "      <td>118</td>\n",
       "      <td>4</td>\n",
       "      <td>4.5</td>\n",
       "      <td>4.5</td>\n",
       "      <td>9.65</td>\n",
       "      <td>1</td>\n",
       "      <td>0.92</td>\n",
       "    </tr>\n",
       "    <tr>\n",
       "      <th>1</th>\n",
       "      <td>2</td>\n",
       "      <td>324</td>\n",
       "      <td>107</td>\n",
       "      <td>4</td>\n",
       "      <td>4.0</td>\n",
       "      <td>4.5</td>\n",
       "      <td>8.87</td>\n",
       "      <td>1</td>\n",
       "      <td>0.76</td>\n",
       "    </tr>\n",
       "    <tr>\n",
       "      <th>2</th>\n",
       "      <td>3</td>\n",
       "      <td>316</td>\n",
       "      <td>104</td>\n",
       "      <td>3</td>\n",
       "      <td>3.0</td>\n",
       "      <td>3.5</td>\n",
       "      <td>8.00</td>\n",
       "      <td>1</td>\n",
       "      <td>0.72</td>\n",
       "    </tr>\n",
       "    <tr>\n",
       "      <th>3</th>\n",
       "      <td>4</td>\n",
       "      <td>322</td>\n",
       "      <td>110</td>\n",
       "      <td>3</td>\n",
       "      <td>3.5</td>\n",
       "      <td>2.5</td>\n",
       "      <td>8.67</td>\n",
       "      <td>1</td>\n",
       "      <td>0.80</td>\n",
       "    </tr>\n",
       "    <tr>\n",
       "      <th>4</th>\n",
       "      <td>5</td>\n",
       "      <td>314</td>\n",
       "      <td>103</td>\n",
       "      <td>2</td>\n",
       "      <td>2.0</td>\n",
       "      <td>3.0</td>\n",
       "      <td>8.21</td>\n",
       "      <td>0</td>\n",
       "      <td>0.65</td>\n",
       "    </tr>\n",
       "  </tbody>\n",
       "</table>\n",
       "</div>"
      ],
      "text/plain": [
       "   Serial No.  GRE Score  TOEFL Score  University Rating  SOP  LOR   CGPA  \\\n",
       "0           1        337          118                  4  4.5   4.5  9.65   \n",
       "1           2        324          107                  4  4.0   4.5  8.87   \n",
       "2           3        316          104                  3  3.0   3.5  8.00   \n",
       "3           4        322          110                  3  3.5   2.5  8.67   \n",
       "4           5        314          103                  2  2.0   3.0  8.21   \n",
       "\n",
       "   Research  Chance of Admit   \n",
       "0         1              0.92  \n",
       "1         1              0.76  \n",
       "2         1              0.72  \n",
       "3         1              0.80  \n",
       "4         0              0.65  "
      ]
     },
     "execution_count": 2,
     "metadata": {},
     "output_type": "execute_result"
    }
   ],
   "source": [
    "data=pd.read_csv(\"Admission_Predict.csv\")\n",
    "data.head()"
   ]
  },
  {
   "cell_type": "code",
   "execution_count": 3,
   "metadata": {},
   "outputs": [],
   "source": [
    "real_x=data.iloc[:,1:-1].values\n",
    "real_y=data.iloc[:,-1].values"
   ]
  },
  {
   "cell_type": "code",
   "execution_count": 4,
   "metadata": {},
   "outputs": [],
   "source": [
    "real_x=real_x[:,1:]"
   ]
  },
  {
   "cell_type": "code",
   "execution_count": 5,
   "metadata": {},
   "outputs": [],
   "source": [
    "train_x,test_x,train_y,test_y=train_test_split(real_x,real_y,test_size=.3,random_state=0)"
   ]
  },
  {
   "cell_type": "code",
   "execution_count": 6,
   "metadata": {},
   "outputs": [],
   "source": [
    "reg=LinearRegression()\n",
    "reg.fit(train_x,train_y)\n",
    "pred_y=reg.predict(test_x)"
   ]
  },
  {
   "cell_type": "code",
   "execution_count": 7,
   "metadata": {},
   "outputs": [
    {
     "data": {
      "text/plain": [
       "array([0.63821107, 0.84051503, 0.78333292, 0.8768249 , 0.62182092,\n",
       "       0.63836598, 0.54795852, 0.72299485, 0.54248932, 0.72819902,\n",
       "       0.59474727, 0.69897172, 0.61270818, 0.76868751, 0.87105333,\n",
       "       0.52058184, 0.81817876, 0.63155957, 0.75070428, 0.55044023,\n",
       "       0.52805992, 0.70382349, 0.53382051, 0.91720935, 0.83527877,\n",
       "       0.72567404, 0.68796167, 0.48379856, 0.57947846, 0.59890424,\n",
       "       0.7221788 , 0.4860832 , 0.68302594, 0.83858747, 0.54465007,\n",
       "       0.61036102, 0.83170529, 0.87149923, 0.60799774, 0.6640759 ,\n",
       "       0.66486748, 0.89912827, 0.86352849, 0.72259357, 0.76229874,\n",
       "       0.79498489, 0.97525745, 0.85434336, 0.64885446, 0.64682486,\n",
       "       0.64191499, 0.62627035, 0.61970325, 0.79759914, 0.70584563,\n",
       "       0.84742134, 0.54670545, 0.8693917 , 0.61345488, 0.64421927,\n",
       "       0.5044085 , 0.90495174, 0.62462657, 0.96308528, 0.71759099,\n",
       "       0.62678599, 0.71119355, 0.84556138, 0.52696382, 0.7617988 ,\n",
       "       0.89477562, 0.77771299, 0.70576119, 0.62301486, 0.79269409,\n",
       "       0.89313145, 0.74340058, 0.71436467, 0.5720127 , 0.6481693 ,\n",
       "       0.59606862, 0.85787566, 0.56415485, 0.66903146, 0.75766895,\n",
       "       0.57174395, 0.82143053, 0.62384012, 0.44880673, 0.63743626,\n",
       "       0.71854808, 0.7791501 , 0.65521833, 0.70052823, 0.63152461,\n",
       "       0.93804306, 0.51384585, 0.54050303, 0.59314879, 0.62654462,\n",
       "       0.91825574, 0.7269718 , 0.95236082, 0.62515303, 0.69707625,\n",
       "       0.5943835 , 0.70599863, 0.85699057, 0.73469126, 0.71833255,\n",
       "       0.47672176, 0.58846711, 0.63049885, 0.55470098, 0.59584444,\n",
       "       0.85396918, 0.52922135, 0.9227221 , 0.8153009 , 0.88321283,\n",
       "       0.65602925, 0.73955317, 0.87373524, 0.83707187, 0.59102183,\n",
       "       0.54112229, 0.62007824, 0.62632437, 0.70152067, 0.54499274,\n",
       "       0.66728132, 0.80448213, 0.84837324, 0.55780269, 0.61559051,\n",
       "       0.6724624 , 0.67246107, 0.48332176, 0.74906297, 0.73520937,\n",
       "       0.72727525, 0.68615347, 0.77136348, 0.7541971 , 0.76708844,\n",
       "       0.62203603, 0.75120256, 0.62568579, 0.79116714, 0.87124875])"
      ]
     },
     "execution_count": 7,
     "metadata": {},
     "output_type": "execute_result"
    }
   ],
   "source": [
    "pred_y"
   ]
  },
  {
   "cell_type": "code",
   "execution_count": 8,
   "metadata": {},
   "outputs": [
    {
     "data": {
      "text/plain": [
       "array([0.64, 0.85, 0.8 , 0.91, 0.68, 0.54, 0.54, 0.65, 0.52, 0.79, 0.65,\n",
       "       0.74, 0.64, 0.79, 0.89, 0.43, 0.81, 0.73, 0.8 , 0.58, 0.57, 0.74,\n",
       "       0.6 , 0.93, 0.88, 0.67, 0.7 , 0.57, 0.48, 0.64, 0.69, 0.47, 0.57,\n",
       "       0.87, 0.39, 0.53, 0.84, 0.89, 0.63, 0.7 , 0.72, 0.86, 0.91, 0.75,\n",
       "       0.74, 0.76, 0.96, 0.81, 0.6 , 0.62, 0.69, 0.68, 0.59, 0.8 , 0.71,\n",
       "       0.78, 0.69, 0.89, 0.67, 0.58, 0.44, 0.89, 0.53, 0.92, 0.66, 0.73,\n",
       "       0.52, 0.86, 0.54, 0.72, 0.92, 0.55, 0.75, 0.73, 0.85, 0.91, 0.75,\n",
       "       0.71, 0.54, 0.68, 0.62, 0.88, 0.59, 0.74, 0.8 , 0.63, 0.77, 0.65,\n",
       "       0.57, 0.7 , 0.76, 0.78, 0.71, 0.73, 0.73, 0.95, 0.64, 0.53, 0.48,\n",
       "       0.64, 0.91, 0.72, 0.96, 0.67, 0.75, 0.59, 0.72, 0.85, 0.71, 0.77,\n",
       "       0.49, 0.68, 0.71, 0.5 , 0.57, 0.86, 0.38, 0.94, 0.79, 0.93, 0.74,\n",
       "       0.78, 0.89, 0.86, 0.49, 0.59, 0.42, 0.61, 0.71, 0.56, 0.7 , 0.82,\n",
       "       0.86, 0.64, 0.64, 0.67, 0.69, 0.37, 0.73, 0.84, 0.77, 0.78, 0.74,\n",
       "       0.76, 0.76, 0.65, 0.79, 0.73, 0.81, 0.9 ])"
      ]
     },
     "execution_count": 8,
     "metadata": {},
     "output_type": "execute_result"
    }
   ],
   "source": [
    "test_y"
   ]
  },
  {
   "cell_type": "code",
   "execution_count": 9,
   "metadata": {},
   "outputs": [
    {
     "name": "stdout",
     "output_type": "stream",
     "text": [
      "82.55523254133644\n",
      "78.91797160799005\n"
     ]
    }
   ],
   "source": [
    "print(reg.score(train_x,train_y)*100)\n",
    "print(reg.score(test_x,test_y)*100)"
   ]
  },
  {
   "cell_type": "code",
   "execution_count": 11,
   "metadata": {},
   "outputs": [
    {
     "data": {
      "text/plain": [
       "0.638211069247045"
      ]
     },
     "execution_count": 11,
     "metadata": {},
     "output_type": "execute_result"
    }
   ],
   "source": [
    "pred_y[0]"
   ]
  },
  {
   "cell_type": "code",
   "execution_count": 12,
   "metadata": {},
   "outputs": [
    {
     "data": {
      "text/plain": [
       "0.64"
      ]
     },
     "execution_count": 12,
     "metadata": {},
     "output_type": "execute_result"
    }
   ],
   "source": [
    "test_y[0]"
   ]
  },
  {
   "cell_type": "code",
   "execution_count": 13,
   "metadata": {},
   "outputs": [],
   "source": [
    "import statsmodels.formula.api as sm\n",
    "import statsmodels.regression.linear_model as Im"
   ]
  },
  {
   "cell_type": "code",
   "execution_count": 16,
   "metadata": {},
   "outputs": [],
   "source": [
    "real_x=np.append(arr=np.ones((500,1)).astype(int),values=real_x,axis=1)"
   ]
  },
  {
   "cell_type": "code",
   "execution_count": 17,
   "metadata": {},
   "outputs": [],
   "source": [
    "real_x=np.array(real_x,dtype=float)"
   ]
  },
  {
   "cell_type": "code",
   "execution_count": 25,
   "metadata": {},
   "outputs": [
    {
     "data": {
      "text/html": [
       "<table class=\"simpletable\">\n",
       "<caption>OLS Regression Results</caption>\n",
       "<tr>\n",
       "  <th>Dep. Variable:</th>            <td>y</td>        <th>  R-squared:         </th> <td>   0.817</td> \n",
       "</tr>\n",
       "<tr>\n",
       "  <th>Model:</th>                   <td>OLS</td>       <th>  Adj. R-squared:    </th> <td>   0.815</td> \n",
       "</tr>\n",
       "<tr>\n",
       "  <th>Method:</th>             <td>Least Squares</td>  <th>  F-statistic:       </th> <td>   366.7</td> \n",
       "</tr>\n",
       "<tr>\n",
       "  <th>Date:</th>             <td>Sat, 21 Mar 2020</td> <th>  Prob (F-statistic):</th> <td>3.46e-178</td>\n",
       "</tr>\n",
       "<tr>\n",
       "  <th>Time:</th>                 <td>19:19:12</td>     <th>  Log-Likelihood:    </th> <td>  694.52</td> \n",
       "</tr>\n",
       "<tr>\n",
       "  <th>No. Observations:</th>      <td>   500</td>      <th>  AIC:               </th> <td>  -1375.</td> \n",
       "</tr>\n",
       "<tr>\n",
       "  <th>Df Residuals:</th>          <td>   493</td>      <th>  BIC:               </th> <td>  -1346.</td> \n",
       "</tr>\n",
       "<tr>\n",
       "  <th>Df Model:</th>              <td>     6</td>      <th>                     </th>     <td> </td>    \n",
       "</tr>\n",
       "<tr>\n",
       "  <th>Covariance Type:</th>      <td>nonrobust</td>    <th>                     </th>     <td> </td>    \n",
       "</tr>\n",
       "</table>\n",
       "<table class=\"simpletable\">\n",
       "<tr>\n",
       "    <td></td>       <th>coef</th>     <th>std err</th>      <th>t</th>      <th>P>|t|</th>  <th>[0.025</th>    <th>0.975]</th>  \n",
       "</tr>\n",
       "<tr>\n",
       "  <th>const</th> <td>   -0.9699</td> <td>    0.064</td> <td>  -15.055</td> <td> 0.000</td> <td>   -1.097</td> <td>   -0.843</td>\n",
       "</tr>\n",
       "<tr>\n",
       "  <th>x1</th>    <td>    0.0043</td> <td>    0.001</td> <td>    5.431</td> <td> 0.000</td> <td>    0.003</td> <td>    0.006</td>\n",
       "</tr>\n",
       "<tr>\n",
       "  <th>x2</th>    <td>    0.0066</td> <td>    0.004</td> <td>    1.724</td> <td> 0.085</td> <td>   -0.001</td> <td>    0.014</td>\n",
       "</tr>\n",
       "<tr>\n",
       "  <th>x3</th>    <td>    0.0010</td> <td>    0.005</td> <td>    0.225</td> <td> 0.822</td> <td>   -0.008</td> <td>    0.010</td>\n",
       "</tr>\n",
       "<tr>\n",
       "  <th>x4</th>    <td>    0.0160</td> <td>    0.004</td> <td>    3.830</td> <td> 0.000</td> <td>    0.008</td> <td>    0.024</td>\n",
       "</tr>\n",
       "<tr>\n",
       "  <th>x5</th>    <td>    0.1326</td> <td>    0.009</td> <td>   14.694</td> <td> 0.000</td> <td>    0.115</td> <td>    0.150</td>\n",
       "</tr>\n",
       "<tr>\n",
       "  <th>x6</th>    <td>    0.0313</td> <td>    0.006</td> <td>    4.881</td> <td> 0.000</td> <td>    0.019</td> <td>    0.044</td>\n",
       "</tr>\n",
       "</table>\n",
       "<table class=\"simpletable\">\n",
       "<tr>\n",
       "  <th>Omnibus:</th>       <td>101.334</td> <th>  Durbin-Watson:     </th> <td>   0.809</td>\n",
       "</tr>\n",
       "<tr>\n",
       "  <th>Prob(Omnibus):</th> <td> 0.000</td>  <th>  Jarque-Bera (JB):  </th> <td> 208.218</td>\n",
       "</tr>\n",
       "<tr>\n",
       "  <th>Skew:</th>          <td>-1.099</td>  <th>  Prob(JB):          </th> <td>6.11e-46</td>\n",
       "</tr>\n",
       "<tr>\n",
       "  <th>Kurtosis:</th>      <td> 5.273</td>  <th>  Cond. No.          </th> <td>2.56e+03</td>\n",
       "</tr>\n",
       "</table><br/><br/>Warnings:<br/>[1] Standard Errors assume that the covariance matrix of the errors is correctly specified.<br/>[2] The condition number is large, 2.56e+03. This might indicate that there are<br/>strong multicollinearity or other numerical problems."
      ],
      "text/plain": [
       "<class 'statsmodels.iolib.summary.Summary'>\n",
       "\"\"\"\n",
       "                            OLS Regression Results                            \n",
       "==============================================================================\n",
       "Dep. Variable:                      y   R-squared:                       0.817\n",
       "Model:                            OLS   Adj. R-squared:                  0.815\n",
       "Method:                 Least Squares   F-statistic:                     366.7\n",
       "Date:                Sat, 21 Mar 2020   Prob (F-statistic):          3.46e-178\n",
       "Time:                        19:19:12   Log-Likelihood:                 694.52\n",
       "No. Observations:                 500   AIC:                            -1375.\n",
       "Df Residuals:                     493   BIC:                            -1346.\n",
       "Df Model:                           6                                         \n",
       "Covariance Type:            nonrobust                                         \n",
       "==============================================================================\n",
       "                 coef    std err          t      P>|t|      [0.025      0.975]\n",
       "------------------------------------------------------------------------------\n",
       "const         -0.9699      0.064    -15.055      0.000      -1.097      -0.843\n",
       "x1             0.0043      0.001      5.431      0.000       0.003       0.006\n",
       "x2             0.0066      0.004      1.724      0.085      -0.001       0.014\n",
       "x3             0.0010      0.005      0.225      0.822      -0.008       0.010\n",
       "x4             0.0160      0.004      3.830      0.000       0.008       0.024\n",
       "x5             0.1326      0.009     14.694      0.000       0.115       0.150\n",
       "x6             0.0313      0.006      4.881      0.000       0.019       0.044\n",
       "==============================================================================\n",
       "Omnibus:                      101.334   Durbin-Watson:                   0.809\n",
       "Prob(Omnibus):                  0.000   Jarque-Bera (JB):              208.218\n",
       "Skew:                          -1.099   Prob(JB):                     6.11e-46\n",
       "Kurtosis:                       5.273   Cond. No.                     2.56e+03\n",
       "==============================================================================\n",
       "\n",
       "Warnings:\n",
       "[1] Standard Errors assume that the covariance matrix of the errors is correctly specified.\n",
       "[2] The condition number is large, 2.56e+03. This might indicate that there are\n",
       "strong multicollinearity or other numerical problems.\n",
       "\"\"\""
      ]
     },
     "execution_count": 25,
     "metadata": {},
     "output_type": "execute_result"
    }
   ],
   "source": [
    "x_opt=real_x[:,[0,1,2,3,4,5,6]]  \n",
    "reg_OLS=sm.OLS(endog = real_y, exog=x_opt).fit()\n",
    "reg_OLS.summary()"
   ]
  },
  {
   "cell_type": "code",
   "execution_count": 27,
   "metadata": {},
   "outputs": [
    {
     "data": {
      "text/html": [
       "<table class=\"simpletable\">\n",
       "<caption>OLS Regression Results</caption>\n",
       "<tr>\n",
       "  <th>Dep. Variable:</th>            <td>y</td>        <th>  R-squared:         </th> <td>   0.816</td> \n",
       "</tr>\n",
       "<tr>\n",
       "  <th>Model:</th>                   <td>OLS</td>       <th>  Adj. R-squared:    </th> <td>   0.814</td> \n",
       "</tr>\n",
       "<tr>\n",
       "  <th>Method:</th>             <td>Least Squares</td>  <th>  F-statistic:       </th> <td>   547.1</td> \n",
       "</tr>\n",
       "<tr>\n",
       "  <th>Date:</th>             <td>Sat, 21 Mar 2020</td> <th>  Prob (F-statistic):</th> <td>4.23e-180</td>\n",
       "</tr>\n",
       "<tr>\n",
       "  <th>Time:</th>                 <td>19:20:22</td>     <th>  Log-Likelihood:    </th> <td>  692.59</td> \n",
       "</tr>\n",
       "<tr>\n",
       "  <th>No. Observations:</th>      <td>   500</td>      <th>  AIC:               </th> <td>  -1375.</td> \n",
       "</tr>\n",
       "<tr>\n",
       "  <th>Df Residuals:</th>          <td>   495</td>      <th>  BIC:               </th> <td>  -1354.</td> \n",
       "</tr>\n",
       "<tr>\n",
       "  <th>Df Model:</th>              <td>     4</td>      <th>                     </th>     <td> </td>    \n",
       "</tr>\n",
       "<tr>\n",
       "  <th>Covariance Type:</th>      <td>nonrobust</td>    <th>                     </th>     <td> </td>    \n",
       "</tr>\n",
       "</table>\n",
       "<table class=\"simpletable\">\n",
       "<tr>\n",
       "    <td></td>       <th>coef</th>     <th>std err</th>      <th>t</th>      <th>P>|t|</th>  <th>[0.025</th>    <th>0.975]</th>  \n",
       "</tr>\n",
       "<tr>\n",
       "  <th>const</th> <td>   -1.0271</td> <td>    0.056</td> <td>  -18.260</td> <td> 0.000</td> <td>   -1.138</td> <td>   -0.917</td>\n",
       "</tr>\n",
       "<tr>\n",
       "  <th>x1</th>    <td>    0.0045</td> <td>    0.001</td> <td>    5.882</td> <td> 0.000</td> <td>    0.003</td> <td>    0.006</td>\n",
       "</tr>\n",
       "<tr>\n",
       "  <th>x2</th>    <td>    0.0185</td> <td>    0.004</td> <td>    4.818</td> <td> 0.000</td> <td>    0.011</td> <td>    0.026</td>\n",
       "</tr>\n",
       "<tr>\n",
       "  <th>x3</th>    <td>    0.1376</td> <td>    0.009</td> <td>   16.068</td> <td> 0.000</td> <td>    0.121</td> <td>    0.154</td>\n",
       "</tr>\n",
       "<tr>\n",
       "  <th>x4</th>    <td>    0.0323</td> <td>    0.006</td> <td>    5.052</td> <td> 0.000</td> <td>    0.020</td> <td>    0.045</td>\n",
       "</tr>\n",
       "</table>\n",
       "<table class=\"simpletable\">\n",
       "<tr>\n",
       "  <th>Omnibus:</th>       <td>97.546</td> <th>  Durbin-Watson:     </th> <td>   0.812</td>\n",
       "</tr>\n",
       "<tr>\n",
       "  <th>Prob(Omnibus):</th> <td> 0.000</td> <th>  Jarque-Bera (JB):  </th> <td> 196.633</td>\n",
       "</tr>\n",
       "<tr>\n",
       "  <th>Skew:</th>          <td>-1.068</td> <th>  Prob(JB):          </th> <td>2.00e-43</td>\n",
       "</tr>\n",
       "<tr>\n",
       "  <th>Kurtosis:</th>      <td> 5.208</td> <th>  Cond. No.          </th> <td>2.23e+03</td>\n",
       "</tr>\n",
       "</table><br/><br/>Warnings:<br/>[1] Standard Errors assume that the covariance matrix of the errors is correctly specified.<br/>[2] The condition number is large, 2.23e+03. This might indicate that there are<br/>strong multicollinearity or other numerical problems."
      ],
      "text/plain": [
       "<class 'statsmodels.iolib.summary.Summary'>\n",
       "\"\"\"\n",
       "                            OLS Regression Results                            \n",
       "==============================================================================\n",
       "Dep. Variable:                      y   R-squared:                       0.816\n",
       "Model:                            OLS   Adj. R-squared:                  0.814\n",
       "Method:                 Least Squares   F-statistic:                     547.1\n",
       "Date:                Sat, 21 Mar 2020   Prob (F-statistic):          4.23e-180\n",
       "Time:                        19:20:22   Log-Likelihood:                 692.59\n",
       "No. Observations:                 500   AIC:                            -1375.\n",
       "Df Residuals:                     495   BIC:                            -1354.\n",
       "Df Model:                           4                                         \n",
       "Covariance Type:            nonrobust                                         \n",
       "==============================================================================\n",
       "                 coef    std err          t      P>|t|      [0.025      0.975]\n",
       "------------------------------------------------------------------------------\n",
       "const         -1.0271      0.056    -18.260      0.000      -1.138      -0.917\n",
       "x1             0.0045      0.001      5.882      0.000       0.003       0.006\n",
       "x2             0.0185      0.004      4.818      0.000       0.011       0.026\n",
       "x3             0.1376      0.009     16.068      0.000       0.121       0.154\n",
       "x4             0.0323      0.006      5.052      0.000       0.020       0.045\n",
       "==============================================================================\n",
       "Omnibus:                       97.546   Durbin-Watson:                   0.812\n",
       "Prob(Omnibus):                  0.000   Jarque-Bera (JB):              196.633\n",
       "Skew:                          -1.068   Prob(JB):                     2.00e-43\n",
       "Kurtosis:                       5.208   Cond. No.                     2.23e+03\n",
       "==============================================================================\n",
       "\n",
       "Warnings:\n",
       "[1] Standard Errors assume that the covariance matrix of the errors is correctly specified.\n",
       "[2] The condition number is large, 2.23e+03. This might indicate that there are\n",
       "strong multicollinearity or other numerical problems.\n",
       "\"\"\""
      ]
     },
     "execution_count": 27,
     "metadata": {},
     "output_type": "execute_result"
    }
   ],
   "source": [
    "x_opt=real_x[:,[0,1,4,5,6]]  \n",
    "reg_OLS=sm.OLS(endog = real_y, exog=x_opt).fit()\n",
    "reg_OLS.summary()"
   ]
  },
  {
   "cell_type": "code",
   "execution_count": 31,
   "metadata": {},
   "outputs": [
    {
     "data": {
      "text/plain": [
       "LinearRegression(copy_X=True, fit_intercept=True, n_jobs=None, normalize=False)"
      ]
     },
     "execution_count": 31,
     "metadata": {},
     "output_type": "execute_result"
    }
   ],
   "source": [
    "reg=LinearRegression()\n",
    "reg.fit(train_x[:,[0,1,4,5]],train_y)"
   ]
  },
  {
   "cell_type": "code",
   "execution_count": 33,
   "metadata": {},
   "outputs": [],
   "source": [
    "y_pred = reg.predict(test_x[:, [0,1,4,5]])"
   ]
  },
  {
   "cell_type": "code",
   "execution_count": 35,
   "metadata": {},
   "outputs": [
    {
     "data": {
      "text/plain": [
       "array([0.61832749, 0.82192413, 0.79459575, 0.86413217, 0.64500821,\n",
       "       0.65341488, 0.56094694, 0.7028472 , 0.55135636, 0.71993734,\n",
       "       0.61176368, 0.71799911, 0.62109482, 0.77278769, 0.86662725,\n",
       "       0.54551499, 0.79919617, 0.61924892, 0.75255329, 0.55644037,\n",
       "       0.52195641, 0.68399874, 0.52280762, 0.90848048, 0.84324859,\n",
       "       0.71434376, 0.71548818, 0.47836546, 0.57766946, 0.5880174 ,\n",
       "       0.69898202, 0.46726016, 0.69404928, 0.82550927, 0.54579655,\n",
       "       0.587521  , 0.83559776, 0.86581248, 0.62227721, 0.65978946,\n",
       "       0.64539643, 0.88870755, 0.874776  , 0.71171686, 0.77196012,\n",
       "       0.78579782, 0.97953163, 0.84994117, 0.62581121, 0.63846652,\n",
       "       0.6428075 , 0.61620004, 0.60880713, 0.79590843, 0.71491074,\n",
       "       0.83966497, 0.56094694, 0.86285593, 0.63153661, 0.64851857,\n",
       "       0.51844605, 0.90690835, 0.61231901, 0.959571  , 0.72180536,\n",
       "       0.63597144, 0.70081512, 0.85648135, 0.54108016, 0.74472407,\n",
       "       0.91337679, 0.78441187, 0.71365813, 0.62542299, 0.80169125,\n",
       "       0.88233297, 0.75839618, 0.71365813, 0.5686695 , 0.66193125,\n",
       "       0.6015096 , 0.86643955, 0.57543382, 0.66718085, 0.76706381,\n",
       "       0.59215634, 0.80596049, 0.63199809, 0.451295  , 0.62893335,\n",
       "       0.71199063, 0.79256214, 0.6543758 , 0.70959093, 0.63705998,\n",
       "       0.94434887, 0.50844988, 0.56251907, 0.59245223, 0.62516203,\n",
       "       0.91274972, 0.74571723, 0.94876158, 0.64184963, 0.68316965,\n",
       "       0.61958162, 0.70018653, 0.85001291, 0.73296807, 0.72696111,\n",
       "       0.49305438, 0.56686005, 0.629966  , 0.57408584, 0.5963174 ,\n",
       "       0.8574043 , 0.5313814 , 0.92244848, 0.81785844, 0.90155057,\n",
       "       0.65295493, 0.73221223, 0.88177764, 0.85795962, 0.6129476 ,\n",
       "       0.54987808, 0.63791119, 0.64425085, 0.70912793, 0.57304693,\n",
       "       0.66054834, 0.82238712, 0.83275565, 0.55677155, 0.61344551,\n",
       "       0.64391968, 0.67313192, 0.49859986, 0.74211302, 0.74618023,\n",
       "       0.73730904, 0.69294793, 0.74608485, 0.76628281, 0.75717735,\n",
       "       0.62063334, 0.77981298, 0.64391968, 0.81989204, 0.89859402])"
      ]
     },
     "execution_count": 35,
     "metadata": {},
     "output_type": "execute_result"
    }
   ],
   "source": [
    "y_pred"
   ]
  },
  {
   "cell_type": "code",
   "execution_count": 43,
   "metadata": {},
   "outputs": [
    {
     "data": {
      "text/plain": [
       "0.65"
      ]
     },
     "execution_count": 43,
     "metadata": {},
     "output_type": "execute_result"
    }
   ],
   "source": [
    "test_y[10]"
   ]
  },
  {
   "cell_type": "code",
   "execution_count": 44,
   "metadata": {},
   "outputs": [
    {
     "data": {
      "text/plain": [
       "0.5947472744998362"
      ]
     },
     "execution_count": 44,
     "metadata": {},
     "output_type": "execute_result"
    }
   ],
   "source": [
    "pred_y[10]"
   ]
  },
  {
   "cell_type": "code",
   "execution_count": 45,
   "metadata": {},
   "outputs": [
    {
     "data": {
      "text/plain": [
       "0.6117636825555937"
      ]
     },
     "execution_count": 45,
     "metadata": {},
     "output_type": "execute_result"
    }
   ],
   "source": [
    "y_pred[10]"
   ]
  },
  {
   "cell_type": "code",
   "execution_count": null,
   "metadata": {},
   "outputs": [],
   "source": []
  },
  {
   "cell_type": "code",
   "execution_count": null,
   "metadata": {},
   "outputs": [],
   "source": []
  }
 ],
 "metadata": {
  "kernelspec": {
   "display_name": "Python 3",
   "language": "python",
   "name": "python3"
  },
  "language_info": {
   "codemirror_mode": {
    "name": "ipython",
    "version": 3
   },
   "file_extension": ".py",
   "mimetype": "text/x-python",
   "name": "python",
   "nbconvert_exporter": "python",
   "pygments_lexer": "ipython3",
   "version": "3.7.3"
  }
 },
 "nbformat": 4,
 "nbformat_minor": 2
}
