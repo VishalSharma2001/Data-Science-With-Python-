{
 "cells": [
  {
   "cell_type": "code",
   "execution_count": null,
   "metadata": {},
   "outputs": [],
   "source": [
    "for i in range(0,160,-16):\n",
    "    print(i)"
   ]
  },
  {
   "cell_type": "code",
   "execution_count": 14,
   "metadata": {},
   "outputs": [
    {
     "name": "stdout",
     "output_type": "stream",
     "text": [
      "25\n"
     ]
    }
   ],
   "source": [
    "number=\"201,514,25464,5454,21,412\"\n",
    "print(len(number))"
   ]
  },
  {
   "cell_type": "code",
   "execution_count": 2,
   "metadata": {},
   "outputs": [
    {
     "name": "stdout",
     "output_type": "stream",
     "text": [
      "2\n",
      "0\n",
      "1\n",
      ",\n",
      "5\n",
      "1\n",
      "4\n",
      ",\n",
      "2\n",
      "5\n",
      "4\n",
      "6\n",
      "4\n",
      ",\n",
      "5\n",
      "4\n",
      "5\n",
      "4\n",
      ",\n",
      "2\n",
      "1\n",
      ",\n",
      "4\n",
      "1\n",
      "2\n"
     ]
    }
   ],
   "source": [
    "number=\"201,514,25464,5454,21,412\"\n",
    "for i in range(0,len(number)):\n",
    "    print(number[i])"
   ]
  },
  {
   "cell_type": "code",
   "execution_count": 7,
   "metadata": {},
   "outputs": [
    {
     "name": "stdout",
     "output_type": "stream",
     "text": [
      "20151425464545421412<class 'str'>\n"
     ]
    }
   ],
   "source": [
    "number=\"201,514,25464,5454,21,412\"\n",
    "for i in range(0,len(number)):\n",
    "    if number[i] in \"0123456789\":\n",
    "        print(number[i],end=\"\")\n",
    "#print(type(number))"
   ]
  },
  {
   "cell_type": "code",
   "execution_count": 13,
   "metadata": {},
   "outputs": [
    {
     "name": "stdout",
     "output_type": "stream",
     "text": [
      "This is number20151425464545421412 <class 'int'>\n"
     ]
    }
   ],
   "source": [
    "number=\"201,514,25464,5454,21,412\"\n",
    "clearnumber=\"\"\n",
    "for i in range(0,len(number)):\n",
    "    if number[i] in \"0123456789\":\n",
    "        clearnumber=clearnumber+number[i]\n",
    "newNumber=int(clearnumber)\n",
    "print(\"This is number{}\".format(newNumber),type(newNumber))"
   ]
  }
 ],
 "metadata": {
  "kernelspec": {
   "display_name": "Python 3",
   "language": "python",
   "name": "python3"
  },
  "language_info": {
   "codemirror_mode": {
    "name": "ipython",
    "version": 3
   },
   "file_extension": ".py",
   "mimetype": "text/x-python",
   "name": "python",
   "nbconvert_exporter": "python",
   "pygments_lexer": "ipython3",
   "version": "3.7.0"
  }
 },
 "nbformat": 4,
 "nbformat_minor": 2
}
